{
  "cells": [
    {
      "cell_type": "code",
      "execution_count": null,
      "metadata": {
        "id": "PjzwxTkPSPHf",
        "cellView": "form"
      },
      "outputs": [],
      "source": [
        "#@markdown # ติดตั้ง Model (จะถูกติดตั้งไปยังโปรเจค)\n",
        "from google.colab import drive\n",
        "import base64\n",
        "\n",
        "print(\"\u001b[0;33mConnecting...\")\n",
        "drive.mount('/content/gdrive')\n",
        "\n",
        "!apt-get -y install -qq aria2\n",
        "\n",
        "blasphemy=base64.b64decode((\"d2VidWk=\").encode('ascii')).decode('ascii')\n",
        "mainpth=\"MyDrive\"\n",
        "\n",
        "model_url = \"\" #@param {type:\"string\"}\n",
        "model_name = \"\" #@param {type:\"string\"}\n",
        "model_url = f\"\\\"{model_url}\\\"\"\n",
        "!aria2c --console-log-level=error -c -x 16 -s 16 -k 1M {model_url} -d /content/gdrive/$mainpth/sd/stable-diffusion-$blasphemy/models/Stable-diffusion -o {model_name}"
      ]
    }
  ],
  "metadata": {
    "accelerator": "GPU",
    "colab": {
      "provenance": []
    },
    "gpuClass": "standard",
    "kernelspec": {
      "display_name": "Python 3",
      "name": "python3"
    },
    "language_info": {
      "name": "python"
    }
  },
  "nbformat": 4,
  "nbformat_minor": 0
}